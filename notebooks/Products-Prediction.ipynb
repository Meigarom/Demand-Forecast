{
 "cells": [
  {
   "cell_type": "markdown",
   "metadata": {},
   "source": [
    "# 0.0. IMPORTS"
   ]
  },
  {
   "cell_type": "code",
   "execution_count": 130,
   "metadata": {
    "ExecuteTime": {
     "end_time": "2020-02-01T13:15:10.708530Z",
     "start_time": "2020-02-01T13:15:09.970505Z"
    }
   },
   "outputs": [],
   "source": [
    "import pandas as pd\n",
    "import numpy  as np\n",
    "\n",
    "import seaborn as sns\n",
    "from matplotlib import pyplot as plt\n",
    "\n",
    "from IPython.core.display  import HTML"
   ]
  },
  {
   "cell_type": "markdown",
   "metadata": {},
   "source": [
    "## 0.1. Helper Functions"
   ]
  },
  {
   "cell_type": "code",
   "execution_count": 131,
   "metadata": {
    "ExecuteTime": {
     "end_time": "2020-02-01T13:15:11.411901Z",
     "start_time": "2020-02-01T13:15:11.395107Z"
    }
   },
   "outputs": [],
   "source": [
    "def jupyter_settings():\n",
    "    %matplotlib inline\n",
    "    %pylab inline\n",
    "    \n",
    "    plt.style.use( 'bmh' )\n",
    "    plt.rcParams['figure.figsize'] = [25, 12]\n",
    "    plt.rcParams['font.size'] = 24\n",
    "    \n",
    "    display( HTML( '<style>.container { width:100% !important; }</style>') )\n",
    "    pd.options.display.max_columns = None\n",
    "    pd.options.display.max_rows = None\n",
    "    pd.set_option( 'display.expand_frame_repr', False )\n",
    "    \n",
    "    sns.set()"
   ]
  },
  {
   "cell_type": "code",
   "execution_count": 132,
   "metadata": {
    "ExecuteTime": {
     "end_time": "2020-02-01T13:15:11.909672Z",
     "start_time": "2020-02-01T13:15:11.895647Z"
    }
   },
   "outputs": [
    {
     "name": "stdout",
     "output_type": "stream",
     "text": [
      "Populating the interactive namespace from numpy and matplotlib\n"
     ]
    },
    {
     "data": {
      "text/html": [
       "<style>.container { width:100% !important; }</style>"
      ],
      "text/plain": [
       "<IPython.core.display.HTML object>"
      ]
     },
     "metadata": {},
     "output_type": "display_data"
    }
   ],
   "source": [
    "jupyter_settings()"
   ]
  },
  {
   "cell_type": "markdown",
   "metadata": {},
   "source": [
    "## 0.2. Loading Dataset"
   ]
  },
  {
   "cell_type": "code",
   "execution_count": 133,
   "metadata": {
    "ExecuteTime": {
     "end_time": "2020-02-01T13:15:14.034726Z",
     "start_time": "2020-02-01T13:15:13.319963Z"
    }
   },
   "outputs": [],
   "source": [
    "df_raw = pd.read_csv( '../data/data_labs.csv' )"
   ]
  },
  {
   "cell_type": "markdown",
   "metadata": {},
   "source": [
    "# 1.0. DESCRICAO DOS DADOS"
   ]
  },
  {
   "cell_type": "code",
   "execution_count": 134,
   "metadata": {
    "ExecuteTime": {
     "end_time": "2020-02-01T13:15:14.316193Z",
     "start_time": "2020-02-01T13:15:14.246725Z"
    }
   },
   "outputs": [],
   "source": [
    "df1 = df_raw.copy()"
   ]
  },
  {
   "cell_type": "markdown",
   "metadata": {},
   "source": [
    "## 1.1. Data Dimensions"
   ]
  },
  {
   "cell_type": "code",
   "execution_count": 137,
   "metadata": {
    "ExecuteTime": {
     "end_time": "2020-02-01T13:15:19.149949Z",
     "start_time": "2020-02-01T13:15:19.144929Z"
    }
   },
   "outputs": [
    {
     "name": "stdout",
     "output_type": "stream",
     "text": [
      "Number of Rows: 179149\n",
      "Number of Cols: 14\n"
     ]
    }
   ],
   "source": [
    "print( 'Number of Rows: {}'.format( df1.shape[0] ) )\n",
    "print( 'Number of Cols: {}'.format( df1.shape[1] ) )"
   ]
  },
  {
   "cell_type": "markdown",
   "metadata": {},
   "source": [
    "## 1.2. Data Types"
   ]
  },
  {
   "cell_type": "code",
   "execution_count": 138,
   "metadata": {
    "ExecuteTime": {
     "end_time": "2020-02-01T13:15:19.481244Z",
     "start_time": "2020-02-01T13:15:19.471657Z"
    }
   },
   "outputs": [
    {
     "data": {
      "text/plain": [
       "order_id             object\n",
       "code                 object\n",
       "quantity              int64\n",
       "price               float64\n",
       "pis_cofins          float64\n",
       "icms                float64\n",
       "tax_substitution    float64\n",
       "category             object\n",
       "liquid_cost         float64\n",
       "order_status         object\n",
       "capture_date         object\n",
       "process_date         object\n",
       "process_status       object\n",
       "source_channel       object\n",
       "dtype: object"
      ]
     },
     "execution_count": 138,
     "metadata": {},
     "output_type": "execute_result"
    }
   ],
   "source": [
    "df1.dtypes"
   ]
  },
  {
   "cell_type": "markdown",
   "metadata": {},
   "source": [
    "## 1.3. Check NA"
   ]
  },
  {
   "cell_type": "code",
   "execution_count": 139,
   "metadata": {
    "ExecuteTime": {
     "end_time": "2020-02-01T13:15:19.933876Z",
     "start_time": "2020-02-01T13:15:19.844930Z"
    }
   },
   "outputs": [
    {
     "data": {
      "text/plain": [
       "order_id            0\n",
       "code                0\n",
       "quantity            0\n",
       "price               0\n",
       "pis_cofins          0\n",
       "icms                0\n",
       "tax_substitution    0\n",
       "category            0\n",
       "liquid_cost         0\n",
       "order_status        0\n",
       "capture_date        0\n",
       "process_date        0\n",
       "process_status      0\n",
       "source_channel      0\n",
       "dtype: int64"
      ]
     },
     "execution_count": 139,
     "metadata": {},
     "output_type": "execute_result"
    }
   ],
   "source": [
    "df1.isna().sum()"
   ]
  },
  {
   "cell_type": "markdown",
   "metadata": {},
   "source": [
    "## 1.4. Change Data Types"
   ]
  },
  {
   "cell_type": "code",
   "execution_count": 140,
   "metadata": {
    "ExecuteTime": {
     "end_time": "2020-02-01T13:15:22.692807Z",
     "start_time": "2020-02-01T13:15:20.222128Z"
    }
   },
   "outputs": [],
   "source": [
    "# Date format\n",
    "df1['capture_date'] = pd.to_datetime( df1['capture_date'] )\n",
    "\n",
    "df1.loc[df1['process_date'] == '0000-00-00', 'process_date'] = '1900-01-01'\n",
    "df1['process_date'] = pd.to_datetime( df1['process_date'] )"
   ]
  },
  {
   "cell_type": "markdown",
   "metadata": {},
   "source": [
    "## 1.5. Descriptive Statistics"
   ]
  },
  {
   "cell_type": "markdown",
   "metadata": {},
   "source": [
    "### 1.5.1. Numerical"
   ]
  },
  {
   "cell_type": "code",
   "execution_count": 141,
   "metadata": {
    "ExecuteTime": {
     "end_time": "2020-02-01T13:15:22.819687Z",
     "start_time": "2020-02-01T13:15:22.696182Z"
    }
   },
   "outputs": [],
   "source": [
    "num_attributes = df1.select_dtypes( include=['int64', 'float64'] )\n",
    "cat_attributes = df1.select_dtypes( exclude=['int64', 'float64', 'datetime64[ns]'] )\n",
    "time_attributes = df1.select_dtypes( include=['datetime64[ns]'] )"
   ]
  },
  {
   "cell_type": "code",
   "execution_count": 142,
   "metadata": {
    "ExecuteTime": {
     "end_time": "2020-02-01T13:15:23.304400Z",
     "start_time": "2020-02-01T13:15:22.823530Z"
    }
   },
   "outputs": [
    {
     "data": {
      "text/html": [
       "<div>\n",
       "<style scoped>\n",
       "    .dataframe tbody tr th:only-of-type {\n",
       "        vertical-align: middle;\n",
       "    }\n",
       "\n",
       "    .dataframe tbody tr th {\n",
       "        vertical-align: top;\n",
       "    }\n",
       "\n",
       "    .dataframe thead th {\n",
       "        text-align: right;\n",
       "    }\n",
       "</style>\n",
       "<table border=\"1\" class=\"dataframe\">\n",
       "  <thead>\n",
       "    <tr style=\"text-align: right;\">\n",
       "      <th></th>\n",
       "      <th>attributes</th>\n",
       "      <th>min</th>\n",
       "      <th>max</th>\n",
       "      <th>range</th>\n",
       "      <th>mean</th>\n",
       "      <th>median</th>\n",
       "      <th>std</th>\n",
       "      <th>skew</th>\n",
       "      <th>kurtosis</th>\n",
       "    </tr>\n",
       "  </thead>\n",
       "  <tbody>\n",
       "    <tr>\n",
       "      <td>0</td>\n",
       "      <td>quantity</td>\n",
       "      <td>1.0000</td>\n",
       "      <td>100.0000</td>\n",
       "      <td>99.0000</td>\n",
       "      <td>1.055278</td>\n",
       "      <td>1.0000</td>\n",
       "      <td>0.597940</td>\n",
       "      <td>60.085256</td>\n",
       "      <td>6821.090621</td>\n",
       "    </tr>\n",
       "    <tr>\n",
       "      <td>1</td>\n",
       "      <td>price</td>\n",
       "      <td>1.0300</td>\n",
       "      <td>19993.0000</td>\n",
       "      <td>19991.9700</td>\n",
       "      <td>234.638585</td>\n",
       "      <td>194.4000</td>\n",
       "      <td>186.638398</td>\n",
       "      <td>27.109077</td>\n",
       "      <td>2125.723778</td>\n",
       "    </tr>\n",
       "    <tr>\n",
       "      <td>2</td>\n",
       "      <td>pis_cofins</td>\n",
       "      <td>0.0000</td>\n",
       "      <td>1849.3525</td>\n",
       "      <td>1849.3525</td>\n",
       "      <td>19.525329</td>\n",
       "      <td>17.5195</td>\n",
       "      <td>17.402772</td>\n",
       "      <td>22.766807</td>\n",
       "      <td>1777.300240</td>\n",
       "    </tr>\n",
       "    <tr>\n",
       "      <td>3</td>\n",
       "      <td>icms</td>\n",
       "      <td>0.0000</td>\n",
       "      <td>3598.7400</td>\n",
       "      <td>3598.7400</td>\n",
       "      <td>25.095547</td>\n",
       "      <td>21.4920</td>\n",
       "      <td>32.333136</td>\n",
       "      <td>14.203649</td>\n",
       "      <td>1096.176530</td>\n",
       "    </tr>\n",
       "    <tr>\n",
       "      <td>4</td>\n",
       "      <td>tax_substitution</td>\n",
       "      <td>0.0000</td>\n",
       "      <td>280.8342</td>\n",
       "      <td>280.8342</td>\n",
       "      <td>17.872443</td>\n",
       "      <td>0.0000</td>\n",
       "      <td>28.125583</td>\n",
       "      <td>2.211765</td>\n",
       "      <td>8.212045</td>\n",
       "    </tr>\n",
       "    <tr>\n",
       "      <td>5</td>\n",
       "      <td>liquid_cost</td>\n",
       "      <td>4.1141</td>\n",
       "      <td>896.6814</td>\n",
       "      <td>892.5673</td>\n",
       "      <td>136.034906</td>\n",
       "      <td>117.0820</td>\n",
       "      <td>83.603010</td>\n",
       "      <td>2.066601</td>\n",
       "      <td>8.568905</td>\n",
       "    </tr>\n",
       "  </tbody>\n",
       "</table>\n",
       "</div>"
      ],
      "text/plain": [
       "         attributes     min         max       range        mean    median         std       skew     kurtosis\n",
       "0          quantity  1.0000    100.0000     99.0000    1.055278    1.0000    0.597940  60.085256  6821.090621\n",
       "1             price  1.0300  19993.0000  19991.9700  234.638585  194.4000  186.638398  27.109077  2125.723778\n",
       "2        pis_cofins  0.0000   1849.3525   1849.3525   19.525329   17.5195   17.402772  22.766807  1777.300240\n",
       "3              icms  0.0000   3598.7400   3598.7400   25.095547   21.4920   32.333136  14.203649  1096.176530\n",
       "4  tax_substitution  0.0000    280.8342    280.8342   17.872443    0.0000   28.125583   2.211765     8.212045\n",
       "5       liquid_cost  4.1141    896.6814    892.5673  136.034906  117.0820   83.603010   2.066601     8.568905"
      ]
     },
     "execution_count": 142,
     "metadata": {},
     "output_type": "execute_result"
    }
   ],
   "source": [
    "ct1 = pd.DataFrame( num_attributes.apply( np.mean ) ).T\n",
    "ct2 = pd.DataFrame( num_attributes.apply( np.median ) ).T\n",
    "\n",
    "# dispersion - std, min, max, range, skew, kurtosis\n",
    "d1 = pd.DataFrame( num_attributes.apply( np.std ) ).T \n",
    "d2 = pd.DataFrame( num_attributes.apply( min ) ).T \n",
    "d3 = pd.DataFrame( num_attributes.apply( max ) ).T \n",
    "d4 = pd.DataFrame( num_attributes.apply( lambda x: x.max() - x.min() ) ).T \n",
    "d5 = pd.DataFrame( num_attributes.apply( lambda x: x.skew() ) ).T \n",
    "d6 = pd.DataFrame( num_attributes.apply( lambda x: x.kurtosis() ) ).T \n",
    "\n",
    "# concatenar\n",
    "m = pd.concat( [d2, d3, d4, ct1, ct2, d1, d5, d6] ).T.reset_index()\n",
    "m.columns = ['attributes', 'min', 'max', 'range', 'mean', 'median', 'std', 'skew', 'kurtosis']\n",
    "m"
   ]
  },
  {
   "cell_type": "markdown",
   "metadata": {},
   "source": [
    "### 1.5.2. Categorical"
   ]
  },
  {
   "cell_type": "code",
   "execution_count": 143,
   "metadata": {
    "ExecuteTime": {
     "end_time": "2020-02-01T13:15:23.337929Z",
     "start_time": "2020-02-01T13:15:23.308755Z"
    }
   },
   "outputs": [],
   "source": [
    "cat_attributes = cat_attributes.drop( ['order_id'], axis=1 )"
   ]
  },
  {
   "cell_type": "code",
   "execution_count": 144,
   "metadata": {
    "ExecuteTime": {
     "end_time": "2020-02-01T13:15:23.468213Z",
     "start_time": "2020-02-01T13:15:23.344919Z"
    }
   },
   "outputs": [
    {
     "data": {
      "text/plain": [
       "code              131\n",
       "category           11\n",
       "order_status       17\n",
       "process_status      2\n",
       "source_channel     16\n",
       "dtype: int64"
      ]
     },
     "execution_count": 144,
     "metadata": {},
     "output_type": "execute_result"
    }
   ],
   "source": [
    "cat_attributes.apply( lambda x: x.unique().shape[0] )"
   ]
  },
  {
   "cell_type": "markdown",
   "metadata": {},
   "source": [
    "### 1.5.3. Temporal"
   ]
  },
  {
   "cell_type": "code",
   "execution_count": null,
   "metadata": {},
   "outputs": [],
   "source": []
  },
  {
   "cell_type": "markdown",
   "metadata": {},
   "source": [
    "# 2.0. FEATURE ENGINEERING"
   ]
  },
  {
   "cell_type": "code",
   "execution_count": 210,
   "metadata": {
    "ExecuteTime": {
     "end_time": "2020-02-01T14:20:27.567133Z",
     "start_time": "2020-02-01T14:20:27.493245Z"
    }
   },
   "outputs": [],
   "source": [
    "df2 = df1.copy()"
   ]
  },
  {
   "cell_type": "markdown",
   "metadata": {},
   "source": [
    "## 2.1. Feature Engineering"
   ]
  },
  {
   "cell_type": "code",
   "execution_count": 212,
   "metadata": {
    "ExecuteTime": {
     "end_time": "2020-02-01T14:20:52.384392Z",
     "start_time": "2020-02-01T14:20:46.817862Z"
    }
   },
   "outputs": [],
   "source": [
    "# year\n",
    "df2['capture_date_year'] = df2['capture_date'].dt.year\n",
    "df2['process_date_year'] = df2['process_date'].dt.year\n",
    "\n",
    "# month\n",
    "df2['capture_date_month'] = df2['capture_date'].dt.month\n",
    "df2['process_date_month'] = df2['process_date'].dt.month\n",
    "\n",
    "# day\n",
    "df2['capture_date_day'] = df2['capture_date'].dt.day\n",
    "df2['process_date_day'] = df2['process_date'].dt.day\n",
    "\n",
    "# week of year\n",
    "df2['capture_date_week_of_year'] = df2['capture_date'].dt.weekofyear\n",
    "df2['process_date_week_of_year'] = df2['process_date'].dt.weekofyear\n",
    "\n",
    "# year week\n",
    "df2['capture_year_week'] = df2['capture_date'].dt.strftime( '%Y-%W' )\n",
    "df2['process_year_week'] = df2['process_date'].dt.strftime( '%Y-%W' )\n",
    "\n",
    "# unit price\n",
    "df2['unit_price'] = df2['price'] / df2['quantity']\n",
    "\n",
    "# Category\n",
    "old_category = list( df2['category'].drop_duplicates() )\n",
    "new_category = [ 'C01', 'C02', 'C03', 'C04', 'C05', 'C06', 'C07', 'C08', 'C09', 'C10', 'C11' ]\n",
    "category_de_para = dict( zip( old_category, new_category ) ) \n",
    "df2['category'] = df2['category'].map( category_de_para )\n",
    "\n",
    "# Produts ( code )\n",
    "old_products = list( df2['code'].drop_duplicates() )\n",
    "new_products = ['P' + str( i ) for i in np.arange( 1, 132 )]\n",
    "code_de_para = dict( zip( old_products, new_products ) )\n",
    "df2['code'] = df2['code'].map( code_de_para )\n",
    "\n",
    "# Source Channel\n",
    "old_channel = list( df2['source_channel'].drop_duplicates() )\n",
    "new_channel = ['channel' + str( i ) for i in np.arange( 1, 17 ) ]\n",
    "channel_de_para = dict( zip( old_channel, new_channel ) )\n",
    "df2['source_channel'] = df2['source_channel'].map( channel_de_para )\n",
    "\n",
    "# Order Id\n",
    "old_order = list( df2['order_id'].drop_duplicates() )\n",
    "new_order = [i for i in np.arange( 1, 175576 )]\n",
    "order_de_para = dict( zip( old_order, new_order ) )\n",
    "df2['order_id'] = df2['order_id'].map( order_de_para )"
   ]
  },
  {
   "cell_type": "markdown",
   "metadata": {},
   "source": [
    "# 3.0. FILTRAGEM DE VARIÁVEIS"
   ]
  },
  {
   "cell_type": "code",
   "execution_count": 225,
   "metadata": {
    "ExecuteTime": {
     "end_time": "2020-02-01T14:26:58.738029Z",
     "start_time": "2020-02-01T14:26:58.618588Z"
    }
   },
   "outputs": [],
   "source": [
    "df3 = df2.copy()"
   ]
  },
  {
   "cell_type": "markdown",
   "metadata": {},
   "source": [
    "## 3.1. Seleção das Linhas"
   ]
  },
  {
   "cell_type": "markdown",
   "metadata": {},
   "source": [
    "## 3.2. Seleção das Colunas"
   ]
  },
  {
   "cell_type": "code",
   "execution_count": 226,
   "metadata": {
    "ExecuteTime": {
     "end_time": "2020-02-01T14:26:59.306190Z",
     "start_time": "2020-02-01T14:26:59.241448Z"
    }
   },
   "outputs": [],
   "source": [
    "drop_cols = [\n",
    "    'order_id',\n",
    "    'price', \n",
    "    'pis_cofins', 'icms', 'tax_substitution', 'liquid_cost', \n",
    "    'order_status', 'process_status',\n",
    "    'process_date', 'process_date_year', 'process_date_month', 'process_date_day', 'process_date_week_of_year', \n",
    "    'source_channel']\n",
    "\n",
    "df3 = df3.drop( drop_cols, axis=1 )"
   ]
  },
  {
   "cell_type": "markdown",
   "metadata": {},
   "source": [
    "# 4.0. ANÁLISE EXPLORATÓRIA DE DADOS"
   ]
  },
  {
   "cell_type": "code",
   "execution_count": 228,
   "metadata": {
    "ExecuteTime": {
     "end_time": "2020-02-01T14:27:01.236766Z",
     "start_time": "2020-02-01T14:27:01.169343Z"
    }
   },
   "outputs": [],
   "source": [
    "df4 = df3.copy()"
   ]
  },
  {
   "cell_type": "markdown",
   "metadata": {},
   "source": [
    "## 4.1. Analise Univariada"
   ]
  },
  {
   "cell_type": "code",
   "execution_count": 234,
   "metadata": {
    "ExecuteTime": {
     "end_time": "2020-02-01T14:28:38.653076Z",
     "start_time": "2020-02-01T14:28:38.619671Z"
    }
   },
   "outputs": [
    {
     "data": {
      "text/html": [
       "<div>\n",
       "<style scoped>\n",
       "    .dataframe tbody tr th:only-of-type {\n",
       "        vertical-align: middle;\n",
       "    }\n",
       "\n",
       "    .dataframe tbody tr th {\n",
       "        vertical-align: top;\n",
       "    }\n",
       "\n",
       "    .dataframe thead th {\n",
       "        text-align: right;\n",
       "    }\n",
       "</style>\n",
       "<table border=\"1\" class=\"dataframe\">\n",
       "  <thead>\n",
       "    <tr style=\"text-align: right;\">\n",
       "      <th></th>\n",
       "      <th>code</th>\n",
       "      <th>quantity</th>\n",
       "      <th>category</th>\n",
       "      <th>capture_date</th>\n",
       "      <th>capture_date_year</th>\n",
       "      <th>capture_date_month</th>\n",
       "      <th>capture_date_day</th>\n",
       "      <th>capture_date_week_of_year</th>\n",
       "      <th>capture_year_week</th>\n",
       "      <th>process_year_week</th>\n",
       "      <th>unit_price</th>\n",
       "    </tr>\n",
       "  </thead>\n",
       "  <tbody>\n",
       "    <tr>\n",
       "      <td>0</td>\n",
       "      <td>P1</td>\n",
       "      <td>1</td>\n",
       "      <td>C01</td>\n",
       "      <td>2016-06-11</td>\n",
       "      <td>2016</td>\n",
       "      <td>6</td>\n",
       "      <td>11</td>\n",
       "      <td>23</td>\n",
       "      <td>2016-23</td>\n",
       "      <td>2016-23</td>\n",
       "      <td>978.90</td>\n",
       "    </tr>\n",
       "    <tr>\n",
       "      <td>1</td>\n",
       "      <td>P1</td>\n",
       "      <td>1</td>\n",
       "      <td>C01</td>\n",
       "      <td>2016-06-11</td>\n",
       "      <td>2016</td>\n",
       "      <td>6</td>\n",
       "      <td>11</td>\n",
       "      <td>23</td>\n",
       "      <td>2016-23</td>\n",
       "      <td>2016-23</td>\n",
       "      <td>1036.29</td>\n",
       "    </tr>\n",
       "    <tr>\n",
       "      <td>2</td>\n",
       "      <td>P1</td>\n",
       "      <td>1</td>\n",
       "      <td>C01</td>\n",
       "      <td>2016-06-12</td>\n",
       "      <td>2016</td>\n",
       "      <td>6</td>\n",
       "      <td>12</td>\n",
       "      <td>23</td>\n",
       "      <td>2016-23</td>\n",
       "      <td>2016-23</td>\n",
       "      <td>978.90</td>\n",
       "    </tr>\n",
       "    <tr>\n",
       "      <td>3</td>\n",
       "      <td>P1</td>\n",
       "      <td>1</td>\n",
       "      <td>C01</td>\n",
       "      <td>2016-06-13</td>\n",
       "      <td>2016</td>\n",
       "      <td>6</td>\n",
       "      <td>13</td>\n",
       "      <td>24</td>\n",
       "      <td>2016-24</td>\n",
       "      <td>1900-01</td>\n",
       "      <td>978.90</td>\n",
       "    </tr>\n",
       "    <tr>\n",
       "      <td>4</td>\n",
       "      <td>P1</td>\n",
       "      <td>1</td>\n",
       "      <td>C01</td>\n",
       "      <td>2016-06-13</td>\n",
       "      <td>2016</td>\n",
       "      <td>6</td>\n",
       "      <td>13</td>\n",
       "      <td>24</td>\n",
       "      <td>2016-24</td>\n",
       "      <td>2016-24</td>\n",
       "      <td>976.05</td>\n",
       "    </tr>\n",
       "  </tbody>\n",
       "</table>\n",
       "</div>"
      ],
      "text/plain": [
       "  code  quantity category capture_date  capture_date_year  capture_date_month  capture_date_day  capture_date_week_of_year capture_year_week process_year_week  unit_price\n",
       "0   P1         1      C01   2016-06-11               2016                   6                11                         23           2016-23           2016-23      978.90\n",
       "1   P1         1      C01   2016-06-11               2016                   6                11                         23           2016-23           2016-23     1036.29\n",
       "2   P1         1      C01   2016-06-12               2016                   6                12                         23           2016-23           2016-23      978.90\n",
       "3   P1         1      C01   2016-06-13               2016                   6                13                         24           2016-24           1900-01      978.90\n",
       "4   P1         1      C01   2016-06-13               2016                   6                13                         24           2016-24           2016-24      976.05"
      ]
     },
     "execution_count": 234,
     "metadata": {},
     "output_type": "execute_result"
    }
   ],
   "source": [
    "df4[['quantity', 'unit_price']].hist( )"
   ]
  },
  {
   "cell_type": "markdown",
   "metadata": {},
   "source": [
    "## 4.2. Analise Bivariada"
   ]
  },
  {
   "cell_type": "code",
   "execution_count": 229,
   "metadata": {
    "ExecuteTime": {
     "end_time": "2020-02-01T14:27:26.021043Z",
     "start_time": "2020-02-01T14:27:25.895358Z"
    }
   },
   "outputs": [],
   "source": [
    "aux = df4[['code', 'quantity', 'capture_date']].groupby( ['code', 'capture_date'] ).sum().reset_index()\n",
    "aux = aux[aux['capture_date'] != '1900-01-01']"
   ]
  },
  {
   "cell_type": "code",
   "execution_count": 230,
   "metadata": {
    "ExecuteTime": {
     "end_time": "2020-02-01T14:27:26.518978Z",
     "start_time": "2020-02-01T14:27:26.497308Z"
    }
   },
   "outputs": [
    {
     "data": {
      "text/html": [
       "<div>\n",
       "<style scoped>\n",
       "    .dataframe tbody tr th:only-of-type {\n",
       "        vertical-align: middle;\n",
       "    }\n",
       "\n",
       "    .dataframe tbody tr th {\n",
       "        vertical-align: top;\n",
       "    }\n",
       "\n",
       "    .dataframe thead th {\n",
       "        text-align: right;\n",
       "    }\n",
       "</style>\n",
       "<table border=\"1\" class=\"dataframe\">\n",
       "  <thead>\n",
       "    <tr style=\"text-align: right;\">\n",
       "      <th></th>\n",
       "      <th>code</th>\n",
       "      <th>capture_date</th>\n",
       "      <th>quantity</th>\n",
       "    </tr>\n",
       "  </thead>\n",
       "  <tbody>\n",
       "    <tr>\n",
       "      <td>0</td>\n",
       "      <td>P1</td>\n",
       "      <td>2016-06-11</td>\n",
       "      <td>2</td>\n",
       "    </tr>\n",
       "    <tr>\n",
       "      <td>1</td>\n",
       "      <td>P1</td>\n",
       "      <td>2016-06-12</td>\n",
       "      <td>1</td>\n",
       "    </tr>\n",
       "    <tr>\n",
       "      <td>2</td>\n",
       "      <td>P1</td>\n",
       "      <td>2016-06-13</td>\n",
       "      <td>3</td>\n",
       "    </tr>\n",
       "    <tr>\n",
       "      <td>3</td>\n",
       "      <td>P1</td>\n",
       "      <td>2016-06-14</td>\n",
       "      <td>1</td>\n",
       "    </tr>\n",
       "    <tr>\n",
       "      <td>4</td>\n",
       "      <td>P1</td>\n",
       "      <td>2016-09-18</td>\n",
       "      <td>2</td>\n",
       "    </tr>\n",
       "  </tbody>\n",
       "</table>\n",
       "</div>"
      ],
      "text/plain": [
       "  code capture_date  quantity\n",
       "0   P1   2016-06-11         2\n",
       "1   P1   2016-06-12         1\n",
       "2   P1   2016-06-13         3\n",
       "3   P1   2016-06-14         1\n",
       "4   P1   2016-09-18         2"
      ]
     },
     "execution_count": 230,
     "metadata": {},
     "output_type": "execute_result"
    }
   ],
   "source": [
    "aux.head()"
   ]
  },
  {
   "cell_type": "code",
   "execution_count": 232,
   "metadata": {
    "ExecuteTime": {
     "end_time": "2020-02-01T14:27:35.925064Z",
     "start_time": "2020-02-01T14:27:34.868082Z"
    }
   },
   "outputs": [
    {
     "name": "stderr",
     "output_type": "stream",
     "text": [
      "/Users/meigarom/opt/anaconda3/lib/python3.7/site-packages/pandas/plotting/_matplotlib/converter.py:103: FutureWarning: Using an implicitly registered datetime converter for a matplotlib plotting method. The converter was registered by pandas on import. Future versions of pandas will require you to explicitly register matplotlib converters.\n",
      "\n",
      "To register the converters:\n",
      "\t>>> from pandas.plotting import register_matplotlib_converters\n",
      "\t>>> register_matplotlib_converters()\n",
      "  warnings.warn(msg, FutureWarning)\n"
     ]
    },
    {
     "data": {
      "text/plain": [
       "<matplotlib.axes._subplots.AxesSubplot at 0x126648450>"
      ]
     },
     "execution_count": 232,
     "metadata": {},
     "output_type": "execute_result"
    },
    {
     "data": {
      "image/png": "[encoded data removed]",
      "text/plain": [
       "<Figure size 1800x864 with 1 Axes>"
      ]
     },
     "metadata": {},
     "output_type": "display_data"
    }
   ],
   "source": [
    " sns.lineplot( x='capture_date', y='quantity', data=aux[aux['code'] == 'P1'] ) "
   ]
  },
  {
   "cell_type": "markdown",
   "metadata": {},
   "source": [
    "## 4.3. Analise Multivariada"
   ]
  },
  {
   "cell_type": "markdown",
   "metadata": {},
   "source": [
    "# 5.0. DATA PREPARATION"
   ]
  },
  {
   "cell_type": "code",
   "execution_count": 235,
   "metadata": {
    "ExecuteTime": {
     "end_time": "2020-02-01T14:35:45.719511Z",
     "start_time": "2020-02-01T14:35:45.657835Z"
    }
   },
   "outputs": [],
   "source": [
    "df5 = df4.copy()"
   ]
  },
  {
   "cell_type": "code",
   "execution_count": null,
   "metadata": {},
   "outputs": [],
   "source": []
  }
 ],
 "metadata": {
  "kernelspec": {
   "display_name": "Python 3",
   "language": "python",
   "name": "python3"
  },
  "language_info": {
   "codemirror_mode": {
    "name": "ipython",
    "version": 3
   },
   "file_extension": ".py",
   "mimetype": "text/x-python",
   "name": "python",
   "nbconvert_exporter": "python",
   "pygments_lexer": "ipython3",
   "version": "3.7.4"
  }
 },
 "nbformat": 4,
 "nbformat_minor": 2
}
