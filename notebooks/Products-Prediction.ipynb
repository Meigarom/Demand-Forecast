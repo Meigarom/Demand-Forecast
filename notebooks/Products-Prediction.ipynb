{
 "cells": [
  {
   "cell_type": "markdown",
   "metadata": {},
   "source": [
    "# 0.0. IMPORTS"
   ]
  },
  {
   "cell_type": "code",
   "execution_count": 53,
   "metadata": {
    "ExecuteTime": {
     "end_time": "2020-02-01T11:11:24.258801Z",
     "start_time": "2020-02-01T11:11:24.253756Z"
    }
   },
   "outputs": [],
   "source": [
    "import pandas as pd\n",
    "import numpy  as np"
   ]
  },
  {
   "cell_type": "markdown",
   "metadata": {},
   "source": [
    "## 0.1. Helper Functions"
   ]
  },
  {
   "cell_type": "markdown",
   "metadata": {},
   "source": [
    "## 0.2. Loading Dataset"
   ]
  },
  {
   "cell_type": "code",
   "execution_count": 22,
   "metadata": {
    "ExecuteTime": {
     "end_time": "2020-02-01T10:47:53.993924Z",
     "start_time": "2020-02-01T10:47:53.351380Z"
    }
   },
   "outputs": [],
   "source": [
    "df_raw = pd.read_csv( '../data/data_labs.csv' )"
   ]
  },
  {
   "cell_type": "markdown",
   "metadata": {},
   "source": [
    "# 1.0. DESCRICAO DOS DADOS"
   ]
  },
  {
   "cell_type": "code",
   "execution_count": 23,
   "metadata": {
    "ExecuteTime": {
     "end_time": "2020-02-01T10:47:54.052806Z",
     "start_time": "2020-02-01T10:47:53.996802Z"
    }
   },
   "outputs": [],
   "source": [
    "df1 = df_raw.copy()"
   ]
  },
  {
   "cell_type": "code",
   "execution_count": 67,
   "metadata": {
    "ExecuteTime": {
     "end_time": "2020-02-01T11:17:03.714891Z",
     "start_time": "2020-02-01T11:17:03.677908Z"
    }
   },
   "outputs": [
    {
     "data": {
      "text/html": [
       "<div>\n",
       "<style scoped>\n",
       "    .dataframe tbody tr th:only-of-type {\n",
       "        vertical-align: middle;\n",
       "    }\n",
       "\n",
       "    .dataframe tbody tr th {\n",
       "        vertical-align: top;\n",
       "    }\n",
       "\n",
       "    .dataframe thead th {\n",
       "        text-align: right;\n",
       "    }\n",
       "</style>\n",
       "<table border=\"1\" class=\"dataframe\">\n",
       "  <thead>\n",
       "    <tr style=\"text-align: right;\">\n",
       "      <th></th>\n",
       "      <th>order_id</th>\n",
       "      <th>code</th>\n",
       "      <th>quantity</th>\n",
       "      <th>price</th>\n",
       "      <th>pis_cofins</th>\n",
       "      <th>icms</th>\n",
       "      <th>tax_substitution</th>\n",
       "      <th>category</th>\n",
       "      <th>liquid_cost</th>\n",
       "      <th>order_status</th>\n",
       "      <th>capture_date</th>\n",
       "      <th>process_date</th>\n",
       "      <th>process_status</th>\n",
       "      <th>source_channel</th>\n",
       "    </tr>\n",
       "  </thead>\n",
       "  <tbody>\n",
       "    <tr>\n",
       "      <td>0</td>\n",
       "      <td>bcb59c839e78b2601374cbad9239ca7b</td>\n",
       "      <td>e6762ba2ffbca07ab6cee7551caeaad5</td>\n",
       "      <td>1</td>\n",
       "      <td>978.90</td>\n",
       "      <td>90.5483</td>\n",
       "      <td>0.0000</td>\n",
       "      <td>191.8416</td>\n",
       "      <td>4ece547755cba9e7fc14125bc895f31b</td>\n",
       "      <td>542.7065</td>\n",
       "      <td>entrega total</td>\n",
       "      <td>2016-06-11</td>\n",
       "      <td>2016-06-11</td>\n",
       "      <td>processado</td>\n",
       "      <td>b76eb9b8fc0f17098812da9117d3e500</td>\n",
       "    </tr>\n",
       "    <tr>\n",
       "      <td>1</td>\n",
       "      <td>4e91ee6b95895771dc9ee524e910a902</td>\n",
       "      <td>e6762ba2ffbca07ab6cee7551caeaad5</td>\n",
       "      <td>1</td>\n",
       "      <td>1036.29</td>\n",
       "      <td>95.8568</td>\n",
       "      <td>176.1693</td>\n",
       "      <td>0.0000</td>\n",
       "      <td>4ece547755cba9e7fc14125bc895f31b</td>\n",
       "      <td>542.7065</td>\n",
       "      <td>em rota de entrega</td>\n",
       "      <td>2016-06-11</td>\n",
       "      <td>2016-06-11</td>\n",
       "      <td>processado</td>\n",
       "      <td>b76eb9b8fc0f17098812da9117d3e500</td>\n",
       "    </tr>\n",
       "    <tr>\n",
       "      <td>2</td>\n",
       "      <td>88eb0ac86af1a521c0831298d22dea8b</td>\n",
       "      <td>e6762ba2ffbca07ab6cee7551caeaad5</td>\n",
       "      <td>1</td>\n",
       "      <td>978.90</td>\n",
       "      <td>90.5483</td>\n",
       "      <td>0.0000</td>\n",
       "      <td>191.8416</td>\n",
       "      <td>4ece547755cba9e7fc14125bc895f31b</td>\n",
       "      <td>542.7065</td>\n",
       "      <td>entrega total</td>\n",
       "      <td>2016-06-12</td>\n",
       "      <td>2016-06-12</td>\n",
       "      <td>processado</td>\n",
       "      <td>b76eb9b8fc0f17098812da9117d3e500</td>\n",
       "    </tr>\n",
       "    <tr>\n",
       "      <td>3</td>\n",
       "      <td>dee418152a36314b4aee6ce9cf94fcbf</td>\n",
       "      <td>e6762ba2ffbca07ab6cee7551caeaad5</td>\n",
       "      <td>1</td>\n",
       "      <td>978.90</td>\n",
       "      <td>90.5483</td>\n",
       "      <td>176.2020</td>\n",
       "      <td>0.0000</td>\n",
       "      <td>4ece547755cba9e7fc14125bc895f31b</td>\n",
       "      <td>542.7065</td>\n",
       "      <td>cancelado</td>\n",
       "      <td>2016-06-13</td>\n",
       "      <td>1900-01-01</td>\n",
       "      <td>captado</td>\n",
       "      <td>b76eb9b8fc0f17098812da9117d3e500</td>\n",
       "    </tr>\n",
       "    <tr>\n",
       "      <td>4</td>\n",
       "      <td>1c175bc61b9b659bbf011b2e5e3dcec6</td>\n",
       "      <td>e6762ba2ffbca07ab6cee7551caeaad5</td>\n",
       "      <td>1</td>\n",
       "      <td>976.05</td>\n",
       "      <td>90.2846</td>\n",
       "      <td>0.0000</td>\n",
       "      <td>192.3325</td>\n",
       "      <td>4ece547755cba9e7fc14125bc895f31b</td>\n",
       "      <td>542.7065</td>\n",
       "      <td>entrega total</td>\n",
       "      <td>2016-06-13</td>\n",
       "      <td>2016-06-13</td>\n",
       "      <td>processado</td>\n",
       "      <td>b76eb9b8fc0f17098812da9117d3e500</td>\n",
       "    </tr>\n",
       "  </tbody>\n",
       "</table>\n",
       "</div>"
      ],
      "text/plain": [
       "                           order_id                              code  \\\n",
       "0  bcb59c839e78b2601374cbad9239ca7b  e6762ba2ffbca07ab6cee7551caeaad5   \n",
       "1  4e91ee6b95895771dc9ee524e910a902  e6762ba2ffbca07ab6cee7551caeaad5   \n",
       "2  88eb0ac86af1a521c0831298d22dea8b  e6762ba2ffbca07ab6cee7551caeaad5   \n",
       "3  dee418152a36314b4aee6ce9cf94fcbf  e6762ba2ffbca07ab6cee7551caeaad5   \n",
       "4  1c175bc61b9b659bbf011b2e5e3dcec6  e6762ba2ffbca07ab6cee7551caeaad5   \n",
       "\n",
       "   quantity    price  pis_cofins      icms  tax_substitution  \\\n",
       "0         1   978.90     90.5483    0.0000          191.8416   \n",
       "1         1  1036.29     95.8568  176.1693            0.0000   \n",
       "2         1   978.90     90.5483    0.0000          191.8416   \n",
       "3         1   978.90     90.5483  176.2020            0.0000   \n",
       "4         1   976.05     90.2846    0.0000          192.3325   \n",
       "\n",
       "                           category  liquid_cost        order_status  \\\n",
       "0  4ece547755cba9e7fc14125bc895f31b     542.7065       entrega total   \n",
       "1  4ece547755cba9e7fc14125bc895f31b     542.7065  em rota de entrega   \n",
       "2  4ece547755cba9e7fc14125bc895f31b     542.7065       entrega total   \n",
       "3  4ece547755cba9e7fc14125bc895f31b     542.7065           cancelado   \n",
       "4  4ece547755cba9e7fc14125bc895f31b     542.7065       entrega total   \n",
       "\n",
       "  capture_date process_date process_status                    source_channel  \n",
       "0   2016-06-11   2016-06-11     processado  b76eb9b8fc0f17098812da9117d3e500  \n",
       "1   2016-06-11   2016-06-11     processado  b76eb9b8fc0f17098812da9117d3e500  \n",
       "2   2016-06-12   2016-06-12     processado  b76eb9b8fc0f17098812da9117d3e500  \n",
       "3   2016-06-13   1900-01-01        captado  b76eb9b8fc0f17098812da9117d3e500  \n",
       "4   2016-06-13   2016-06-13     processado  b76eb9b8fc0f17098812da9117d3e500  "
      ]
     },
     "execution_count": 67,
     "metadata": {},
     "output_type": "execute_result"
    }
   ],
   "source": [
    "df1.head()"
   ]
  },
  {
   "cell_type": "markdown",
   "metadata": {},
   "source": [
    "## 1.1. Data Dimensions"
   ]
  },
  {
   "cell_type": "code",
   "execution_count": 24,
   "metadata": {
    "ExecuteTime": {
     "end_time": "2020-02-01T10:47:54.113112Z",
     "start_time": "2020-02-01T10:47:54.104221Z"
    }
   },
   "outputs": [
    {
     "name": "stdout",
     "output_type": "stream",
     "text": [
      "Number of Rows: 179149\n",
      "Number of Cols: 14\n"
     ]
    }
   ],
   "source": [
    "print( 'Number of Rows: {}'.format( df1.shape[0] ) )\n",
    "print( 'Number of Cols: {}'.format( df1.shape[1] ) )"
   ]
  },
  {
   "cell_type": "markdown",
   "metadata": {},
   "source": [
    "## 1.2. Data Types"
   ]
  },
  {
   "cell_type": "code",
   "execution_count": 41,
   "metadata": {
    "ExecuteTime": {
     "end_time": "2020-02-01T10:57:53.443362Z",
     "start_time": "2020-02-01T10:57:53.422314Z"
    }
   },
   "outputs": [
    {
     "data": {
      "text/plain": [
       "order_id                    object\n",
       "code                        object\n",
       "quantity                     int64\n",
       "price                      float64\n",
       "pis_cofins                 float64\n",
       "icms                       float64\n",
       "tax_substitution           float64\n",
       "category                    object\n",
       "liquid_cost                float64\n",
       "order_status                object\n",
       "capture_date        datetime64[ns]\n",
       "process_date        datetime64[ns]\n",
       "process_status              object\n",
       "source_channel              object\n",
       "dtype: object"
      ]
     },
     "execution_count": 41,
     "metadata": {},
     "output_type": "execute_result"
    }
   ],
   "source": [
    "df1.dtypes"
   ]
  },
  {
   "cell_type": "markdown",
   "metadata": {
    "heading_collapsed": true
   },
   "source": [
    "## 1.3. Check NA"
   ]
  },
  {
   "cell_type": "code",
   "execution_count": 26,
   "metadata": {
    "ExecuteTime": {
     "end_time": "2020-02-01T10:48:17.966118Z",
     "start_time": "2020-02-01T10:48:17.877027Z"
    },
    "hidden": true
   },
   "outputs": [
    {
     "data": {
      "text/plain": [
       "order_id            0\n",
       "code                0\n",
       "quantity            0\n",
       "price               0\n",
       "pis_cofins          0\n",
       "icms                0\n",
       "tax_substitution    0\n",
       "category            0\n",
       "liquid_cost         0\n",
       "order_status        0\n",
       "capture_date        0\n",
       "process_date        0\n",
       "process_status      0\n",
       "source_channel      0\n",
       "dtype: int64"
      ]
     },
     "execution_count": 26,
     "metadata": {},
     "output_type": "execute_result"
    }
   ],
   "source": [
    "df1.isna().sum()"
   ]
  },
  {
   "cell_type": "markdown",
   "metadata": {},
   "source": [
    "## 1.4. Change Data Types"
   ]
  },
  {
   "cell_type": "code",
   "execution_count": 42,
   "metadata": {
    "ExecuteTime": {
     "end_time": "2020-02-01T10:59:26.718078Z",
     "start_time": "2020-02-01T10:59:25.298661Z"
    }
   },
   "outputs": [],
   "source": [
    "# Date format\n",
    "df1['capture_date'] = pd.to_datetime( df1['capture_date'] )\n",
    "\n",
    "df1.loc[df1['process_date'] == '0000-00-00', 'process_date'] = '1900-01-01'\n",
    "df1['process_date'] = pd.to_datetime( df1['process_date'] )"
   ]
  },
  {
   "cell_type": "markdown",
   "metadata": {},
   "source": [
    "## 1.5. Descriptive Statistics"
   ]
  },
  {
   "cell_type": "markdown",
   "metadata": {},
   "source": [
    "### 1.5.1. Numerical"
   ]
  },
  {
   "cell_type": "code",
   "execution_count": 63,
   "metadata": {
    "ExecuteTime": {
     "end_time": "2020-02-01T11:16:30.769759Z",
     "start_time": "2020-02-01T11:16:30.728006Z"
    }
   },
   "outputs": [],
   "source": [
    "num_attributes = df1.select_dtypes( include=['int64', 'float64'] )\n",
    "cat_attributes = df1.select_dtypes( exclude=['int64', 'float64', 'datetime64[ns]'] )\n",
    "time_attributes = df1.select_dtypes( include=['datetime64[ns]'] )"
   ]
  },
  {
   "cell_type": "code",
   "execution_count": 64,
   "metadata": {
    "ExecuteTime": {
     "end_time": "2020-02-01T11:16:31.307875Z",
     "start_time": "2020-02-01T11:16:30.880065Z"
    }
   },
   "outputs": [
    {
     "data": {
      "text/html": [
       "<div>\n",
       "<style scoped>\n",
       "    .dataframe tbody tr th:only-of-type {\n",
       "        vertical-align: middle;\n",
       "    }\n",
       "\n",
       "    .dataframe tbody tr th {\n",
       "        vertical-align: top;\n",
       "    }\n",
       "\n",
       "    .dataframe thead th {\n",
       "        text-align: right;\n",
       "    }\n",
       "</style>\n",
       "<table border=\"1\" class=\"dataframe\">\n",
       "  <thead>\n",
       "    <tr style=\"text-align: right;\">\n",
       "      <th></th>\n",
       "      <th>attributes</th>\n",
       "      <th>min</th>\n",
       "      <th>max</th>\n",
       "      <th>range</th>\n",
       "      <th>mean</th>\n",
       "      <th>median</th>\n",
       "      <th>std</th>\n",
       "      <th>skew</th>\n",
       "      <th>kurtosis</th>\n",
       "    </tr>\n",
       "  </thead>\n",
       "  <tbody>\n",
       "    <tr>\n",
       "      <td>0</td>\n",
       "      <td>quantity</td>\n",
       "      <td>1.0000</td>\n",
       "      <td>100.0000</td>\n",
       "      <td>99.0000</td>\n",
       "      <td>1.055278</td>\n",
       "      <td>1.0000</td>\n",
       "      <td>0.597940</td>\n",
       "      <td>60.085256</td>\n",
       "      <td>6821.090621</td>\n",
       "    </tr>\n",
       "    <tr>\n",
       "      <td>1</td>\n",
       "      <td>price</td>\n",
       "      <td>1.0300</td>\n",
       "      <td>19993.0000</td>\n",
       "      <td>19991.9700</td>\n",
       "      <td>234.638585</td>\n",
       "      <td>194.4000</td>\n",
       "      <td>186.638398</td>\n",
       "      <td>27.109077</td>\n",
       "      <td>2125.723778</td>\n",
       "    </tr>\n",
       "    <tr>\n",
       "      <td>2</td>\n",
       "      <td>pis_cofins</td>\n",
       "      <td>0.0000</td>\n",
       "      <td>1849.3525</td>\n",
       "      <td>1849.3525</td>\n",
       "      <td>19.525329</td>\n",
       "      <td>17.5195</td>\n",
       "      <td>17.402772</td>\n",
       "      <td>22.766807</td>\n",
       "      <td>1777.300240</td>\n",
       "    </tr>\n",
       "    <tr>\n",
       "      <td>3</td>\n",
       "      <td>icms</td>\n",
       "      <td>0.0000</td>\n",
       "      <td>3598.7400</td>\n",
       "      <td>3598.7400</td>\n",
       "      <td>25.095547</td>\n",
       "      <td>21.4920</td>\n",
       "      <td>32.333136</td>\n",
       "      <td>14.203649</td>\n",
       "      <td>1096.176530</td>\n",
       "    </tr>\n",
       "    <tr>\n",
       "      <td>4</td>\n",
       "      <td>tax_substitution</td>\n",
       "      <td>0.0000</td>\n",
       "      <td>280.8342</td>\n",
       "      <td>280.8342</td>\n",
       "      <td>17.872443</td>\n",
       "      <td>0.0000</td>\n",
       "      <td>28.125583</td>\n",
       "      <td>2.211765</td>\n",
       "      <td>8.212045</td>\n",
       "    </tr>\n",
       "    <tr>\n",
       "      <td>5</td>\n",
       "      <td>liquid_cost</td>\n",
       "      <td>4.1141</td>\n",
       "      <td>896.6814</td>\n",
       "      <td>892.5673</td>\n",
       "      <td>136.034906</td>\n",
       "      <td>117.0820</td>\n",
       "      <td>83.603010</td>\n",
       "      <td>2.066601</td>\n",
       "      <td>8.568905</td>\n",
       "    </tr>\n",
       "  </tbody>\n",
       "</table>\n",
       "</div>"
      ],
      "text/plain": [
       "         attributes     min         max       range        mean    median  \\\n",
       "0          quantity  1.0000    100.0000     99.0000    1.055278    1.0000   \n",
       "1             price  1.0300  19993.0000  19991.9700  234.638585  194.4000   \n",
       "2        pis_cofins  0.0000   1849.3525   1849.3525   19.525329   17.5195   \n",
       "3              icms  0.0000   3598.7400   3598.7400   25.095547   21.4920   \n",
       "4  tax_substitution  0.0000    280.8342    280.8342   17.872443    0.0000   \n",
       "5       liquid_cost  4.1141    896.6814    892.5673  136.034906  117.0820   \n",
       "\n",
       "          std       skew     kurtosis  \n",
       "0    0.597940  60.085256  6821.090621  \n",
       "1  186.638398  27.109077  2125.723778  \n",
       "2   17.402772  22.766807  1777.300240  \n",
       "3   32.333136  14.203649  1096.176530  \n",
       "4   28.125583   2.211765     8.212045  \n",
       "5   83.603010   2.066601     8.568905  "
      ]
     },
     "execution_count": 64,
     "metadata": {},
     "output_type": "execute_result"
    }
   ],
   "source": [
    "ct1 = pd.DataFrame( num_attributes.apply( np.mean ) ).T\n",
    "ct2 = pd.DataFrame( num_attributes.apply( np.median ) ).T\n",
    "\n",
    "# dispersion - std, min, max, range, skew, kurtosis\n",
    "d1 = pd.DataFrame( num_attributes.apply( np.std ) ).T \n",
    "d2 = pd.DataFrame( num_attributes.apply( min ) ).T \n",
    "d3 = pd.DataFrame( num_attributes.apply( max ) ).T \n",
    "d4 = pd.DataFrame( num_attributes.apply( lambda x: x.max() - x.min() ) ).T \n",
    "d5 = pd.DataFrame( num_attributes.apply( lambda x: x.skew() ) ).T \n",
    "d6 = pd.DataFrame( num_attributes.apply( lambda x: x.kurtosis() ) ).T \n",
    "\n",
    "# concatenar\n",
    "m = pd.concat( [d2, d3, d4, ct1, ct2, d1, d5, d6] ).T.reset_index()\n",
    "m.columns = ['attributes', 'min', 'max', 'range', 'mean', 'median', 'std', 'skew', 'kurtosis']\n",
    "m"
   ]
  },
  {
   "cell_type": "markdown",
   "metadata": {},
   "source": [
    "### 1.5.2. Categorical"
   ]
  },
  {
   "cell_type": "code",
   "execution_count": 65,
   "metadata": {
    "ExecuteTime": {
     "end_time": "2020-02-01T11:16:31.624510Z",
     "start_time": "2020-02-01T11:16:31.604028Z"
    }
   },
   "outputs": [],
   "source": [
    "cat_attributes = cat_attributes.drop( ['order_id'], axis=1 )"
   ]
  },
  {
   "cell_type": "code",
   "execution_count": 66,
   "metadata": {
    "ExecuteTime": {
     "end_time": "2020-02-01T11:16:32.580358Z",
     "start_time": "2020-02-01T11:16:32.503457Z"
    }
   },
   "outputs": [
    {
     "data": {
      "text/plain": [
       "code              131\n",
       "category           11\n",
       "order_status       17\n",
       "process_status      2\n",
       "source_channel     16\n",
       "dtype: int64"
      ]
     },
     "execution_count": 66,
     "metadata": {},
     "output_type": "execute_result"
    }
   ],
   "source": [
    "cat_attributes.apply( lambda x: x.unique().shape[0] )"
   ]
  },
  {
   "cell_type": "markdown",
   "metadata": {},
   "source": [
    "### 1.5.3. Temporal"
   ]
  },
  {
   "cell_type": "code",
   "execution_count": null,
   "metadata": {},
   "outputs": [],
   "source": []
  },
  {
   "cell_type": "markdown",
   "metadata": {},
   "source": [
    "# 2.0. FEATURE ENGINEERING"
   ]
  },
  {
   "cell_type": "code",
   "execution_count": 68,
   "metadata": {
    "ExecuteTime": {
     "end_time": "2020-02-01T11:20:11.299104Z",
     "start_time": "2020-02-01T11:20:11.252862Z"
    }
   },
   "outputs": [],
   "source": [
    "df2 = df1.copy()"
   ]
  },
  {
   "cell_type": "code",
   "execution_count": 70,
   "metadata": {
    "ExecuteTime": {
     "end_time": "2020-02-01T11:20:45.726589Z",
     "start_time": "2020-02-01T11:20:45.701911Z"
    }
   },
   "outputs": [
    {
     "data": {
      "text/html": [
       "<div>\n",
       "<style scoped>\n",
       "    .dataframe tbody tr th:only-of-type {\n",
       "        vertical-align: middle;\n",
       "    }\n",
       "\n",
       "    .dataframe tbody tr th {\n",
       "        vertical-align: top;\n",
       "    }\n",
       "\n",
       "    .dataframe thead th {\n",
       "        text-align: right;\n",
       "    }\n",
       "</style>\n",
       "<table border=\"1\" class=\"dataframe\">\n",
       "  <thead>\n",
       "    <tr style=\"text-align: right;\">\n",
       "      <th></th>\n",
       "      <th>order_id</th>\n",
       "      <th>code</th>\n",
       "      <th>quantity</th>\n",
       "      <th>price</th>\n",
       "      <th>pis_cofins</th>\n",
       "      <th>icms</th>\n",
       "      <th>tax_substitution</th>\n",
       "      <th>category</th>\n",
       "      <th>liquid_cost</th>\n",
       "      <th>order_status</th>\n",
       "      <th>capture_date</th>\n",
       "      <th>process_date</th>\n",
       "      <th>process_status</th>\n",
       "      <th>source_channel</th>\n",
       "    </tr>\n",
       "  </thead>\n",
       "  <tbody>\n",
       "    <tr>\n",
       "      <td>0</td>\n",
       "      <td>bcb59c839e78b2601374cbad9239ca7b</td>\n",
       "      <td>e6762ba2ffbca07ab6cee7551caeaad5</td>\n",
       "      <td>1</td>\n",
       "      <td>978.90</td>\n",
       "      <td>90.5483</td>\n",
       "      <td>0.0000</td>\n",
       "      <td>191.8416</td>\n",
       "      <td>4ece547755cba9e7fc14125bc895f31b</td>\n",
       "      <td>542.7065</td>\n",
       "      <td>entrega total</td>\n",
       "      <td>2016-06-11</td>\n",
       "      <td>2016-06-11</td>\n",
       "      <td>processado</td>\n",
       "      <td>b76eb9b8fc0f17098812da9117d3e500</td>\n",
       "    </tr>\n",
       "    <tr>\n",
       "      <td>1</td>\n",
       "      <td>4e91ee6b95895771dc9ee524e910a902</td>\n",
       "      <td>e6762ba2ffbca07ab6cee7551caeaad5</td>\n",
       "      <td>1</td>\n",
       "      <td>1036.29</td>\n",
       "      <td>95.8568</td>\n",
       "      <td>176.1693</td>\n",
       "      <td>0.0000</td>\n",
       "      <td>4ece547755cba9e7fc14125bc895f31b</td>\n",
       "      <td>542.7065</td>\n",
       "      <td>em rota de entrega</td>\n",
       "      <td>2016-06-11</td>\n",
       "      <td>2016-06-11</td>\n",
       "      <td>processado</td>\n",
       "      <td>b76eb9b8fc0f17098812da9117d3e500</td>\n",
       "    </tr>\n",
       "    <tr>\n",
       "      <td>2</td>\n",
       "      <td>88eb0ac86af1a521c0831298d22dea8b</td>\n",
       "      <td>e6762ba2ffbca07ab6cee7551caeaad5</td>\n",
       "      <td>1</td>\n",
       "      <td>978.90</td>\n",
       "      <td>90.5483</td>\n",
       "      <td>0.0000</td>\n",
       "      <td>191.8416</td>\n",
       "      <td>4ece547755cba9e7fc14125bc895f31b</td>\n",
       "      <td>542.7065</td>\n",
       "      <td>entrega total</td>\n",
       "      <td>2016-06-12</td>\n",
       "      <td>2016-06-12</td>\n",
       "      <td>processado</td>\n",
       "      <td>b76eb9b8fc0f17098812da9117d3e500</td>\n",
       "    </tr>\n",
       "    <tr>\n",
       "      <td>3</td>\n",
       "      <td>dee418152a36314b4aee6ce9cf94fcbf</td>\n",
       "      <td>e6762ba2ffbca07ab6cee7551caeaad5</td>\n",
       "      <td>1</td>\n",
       "      <td>978.90</td>\n",
       "      <td>90.5483</td>\n",
       "      <td>176.2020</td>\n",
       "      <td>0.0000</td>\n",
       "      <td>4ece547755cba9e7fc14125bc895f31b</td>\n",
       "      <td>542.7065</td>\n",
       "      <td>cancelado</td>\n",
       "      <td>2016-06-13</td>\n",
       "      <td>1900-01-01</td>\n",
       "      <td>captado</td>\n",
       "      <td>b76eb9b8fc0f17098812da9117d3e500</td>\n",
       "    </tr>\n",
       "    <tr>\n",
       "      <td>4</td>\n",
       "      <td>1c175bc61b9b659bbf011b2e5e3dcec6</td>\n",
       "      <td>e6762ba2ffbca07ab6cee7551caeaad5</td>\n",
       "      <td>1</td>\n",
       "      <td>976.05</td>\n",
       "      <td>90.2846</td>\n",
       "      <td>0.0000</td>\n",
       "      <td>192.3325</td>\n",
       "      <td>4ece547755cba9e7fc14125bc895f31b</td>\n",
       "      <td>542.7065</td>\n",
       "      <td>entrega total</td>\n",
       "      <td>2016-06-13</td>\n",
       "      <td>2016-06-13</td>\n",
       "      <td>processado</td>\n",
       "      <td>b76eb9b8fc0f17098812da9117d3e500</td>\n",
       "    </tr>\n",
       "  </tbody>\n",
       "</table>\n",
       "</div>"
      ],
      "text/plain": [
       "                           order_id                              code  \\\n",
       "0  bcb59c839e78b2601374cbad9239ca7b  e6762ba2ffbca07ab6cee7551caeaad5   \n",
       "1  4e91ee6b95895771dc9ee524e910a902  e6762ba2ffbca07ab6cee7551caeaad5   \n",
       "2  88eb0ac86af1a521c0831298d22dea8b  e6762ba2ffbca07ab6cee7551caeaad5   \n",
       "3  dee418152a36314b4aee6ce9cf94fcbf  e6762ba2ffbca07ab6cee7551caeaad5   \n",
       "4  1c175bc61b9b659bbf011b2e5e3dcec6  e6762ba2ffbca07ab6cee7551caeaad5   \n",
       "\n",
       "   quantity    price  pis_cofins      icms  tax_substitution  \\\n",
       "0         1   978.90     90.5483    0.0000          191.8416   \n",
       "1         1  1036.29     95.8568  176.1693            0.0000   \n",
       "2         1   978.90     90.5483    0.0000          191.8416   \n",
       "3         1   978.90     90.5483  176.2020            0.0000   \n",
       "4         1   976.05     90.2846    0.0000          192.3325   \n",
       "\n",
       "                           category  liquid_cost        order_status  \\\n",
       "0  4ece547755cba9e7fc14125bc895f31b     542.7065       entrega total   \n",
       "1  4ece547755cba9e7fc14125bc895f31b     542.7065  em rota de entrega   \n",
       "2  4ece547755cba9e7fc14125bc895f31b     542.7065       entrega total   \n",
       "3  4ece547755cba9e7fc14125bc895f31b     542.7065           cancelado   \n",
       "4  4ece547755cba9e7fc14125bc895f31b     542.7065       entrega total   \n",
       "\n",
       "  capture_date process_date process_status                    source_channel  \n",
       "0   2016-06-11   2016-06-11     processado  b76eb9b8fc0f17098812da9117d3e500  \n",
       "1   2016-06-11   2016-06-11     processado  b76eb9b8fc0f17098812da9117d3e500  \n",
       "2   2016-06-12   2016-06-12     processado  b76eb9b8fc0f17098812da9117d3e500  \n",
       "3   2016-06-13   1900-01-01        captado  b76eb9b8fc0f17098812da9117d3e500  \n",
       "4   2016-06-13   2016-06-13     processado  b76eb9b8fc0f17098812da9117d3e500  "
      ]
     },
     "execution_count": 70,
     "metadata": {},
     "output_type": "execute_result"
    }
   ],
   "source": [
    "df2.head()"
   ]
  },
  {
   "cell_type": "markdown",
   "metadata": {},
   "source": [
    "## 2.1. Feature Engineering"
   ]
  },
  {
   "cell_type": "code",
   "execution_count": 71,
   "metadata": {
    "ExecuteTime": {
     "end_time": "2020-02-01T11:23:53.789224Z",
     "start_time": "2020-02-01T11:23:51.108485Z"
    }
   },
   "outputs": [],
   "source": [
    "# year\n",
    "df2['capture_date_year'] = df2['capture_date'].dt.year\n",
    "df2['process_date_year'] = df2['process_date'].dt.year\n",
    "\n",
    "# month\n",
    "df2['capture_date_month'] = df2['capture_date'].dt.month\n",
    "df2['process_date_month'] = df2['process_date'].dt.month\n",
    "\n",
    "# day\n",
    "df2['capture_date_day'] = df2['capture_date'].dt.day\n",
    "df2['process_date_day'] = df2['process_date'].dt.day\n",
    "\n",
    "# week of year\n",
    "df2['capture_date_week_of_year'] = df2['capture_date'].dt.weekofyear\n",
    "df2['process_date_week_of_year'] = df2['process_date'].dt.weekofyear\n",
    "\n",
    "# year week\n",
    "df2['capture_year_week'] = df2['capture_date'].dt.strftime( '%Y-%W' )\n",
    "df2['process_year_week'] = df2['process_date'].dt.strftime( '%Y-%W' )"
   ]
  },
  {
   "cell_type": "markdown",
   "metadata": {},
   "source": [
    "# 3.0. FILTRAGEM DE VARIÁVEIS"
   ]
  },
  {
   "cell_type": "code",
   "execution_count": 72,
   "metadata": {
    "ExecuteTime": {
     "end_time": "2020-02-01T11:24:48.228032Z",
     "start_time": "2020-02-01T11:24:48.052369Z"
    }
   },
   "outputs": [],
   "source": [
    "df3 = df2.copy()"
   ]
  },
  {
   "cell_type": "markdown",
   "metadata": {},
   "source": [
    "## 3.1. Filtragem das Linhas"
   ]
  },
  {
   "cell_type": "markdown",
   "metadata": {},
   "source": [
    "## 3.2. Seleção das Colunas"
   ]
  },
  {
   "cell_type": "markdown",
   "metadata": {},
   "source": [
    "# 4.0. ANÁLISE EXPLORATÓRIA DE DADOS"
   ]
  },
  {
   "cell_type": "markdown",
   "metadata": {},
   "source": [
    "## 4.1. Analise Univariada"
   ]
  },
  {
   "cell_type": "markdown",
   "metadata": {},
   "source": [
    "## 4.2. Analise Bivariada"
   ]
  },
  {
   "cell_type": "markdown",
   "metadata": {},
   "source": [
    "## 4.3. Analise Multivariada"
   ]
  },
  {
   "cell_type": "markdown",
   "metadata": {},
   "source": [
    "# 5.0. DATA PREPARATION"
   ]
  }
 ],
 "metadata": {
  "kernelspec": {
   "display_name": "Python 3",
   "language": "python",
   "name": "python3"
  },
  "language_info": {
   "codemirror_mode": {
    "name": "ipython",
    "version": 3
   },
   "file_extension": ".py",
   "mimetype": "text/x-python",
   "name": "python",
   "nbconvert_exporter": "python",
   "pygments_lexer": "ipython3",
   "version": "3.7.4"
  }
 },
 "nbformat": 4,
 "nbformat_minor": 2
}
